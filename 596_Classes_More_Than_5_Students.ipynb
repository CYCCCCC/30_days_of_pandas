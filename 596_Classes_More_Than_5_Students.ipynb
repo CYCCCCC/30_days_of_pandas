{
 "cells": [
  {
   "cell_type": "code",
   "execution_count": null,
   "id": "0a696a7c-7777-4d63-8806-18b925719a5c",
   "metadata": {},
   "outputs": [],
   "source": [
    "import pandas as pd\n",
    "\n",
    "def find_classes(courses: pd.DataFrame) -> pd.DataFrame:\n",
    "    class_cnt = courses.groupby('class')['student'].count().reset_index()\n",
    "    result = class_cnt[class_cnt['student']>=5][['class']]\n",
    "    return result"
   ]
  }
 ],
 "metadata": {
  "kernelspec": {
   "display_name": "Python 3 (ipykernel)",
   "language": "python",
   "name": "python3"
  },
  "language_info": {
   "codemirror_mode": {
    "name": "ipython",
    "version": 3
   },
   "file_extension": ".py",
   "mimetype": "text/x-python",
   "name": "python",
   "nbconvert_exporter": "python",
   "pygments_lexer": "ipython3",
   "version": "3.9.12"
  }
 },
 "nbformat": 4,
 "nbformat_minor": 5
}
