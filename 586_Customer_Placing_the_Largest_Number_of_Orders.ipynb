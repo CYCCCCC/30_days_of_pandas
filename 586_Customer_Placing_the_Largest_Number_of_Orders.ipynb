{
 "cells": [
  {
   "cell_type": "code",
   "execution_count": null,
   "id": "6b162ed5-155f-4904-b83e-462db0c30811",
   "metadata": {},
   "outputs": [],
   "source": [
    "import pandas as pd\n",
    "\n",
    "def largest_orders(orders: pd.DataFrame) -> pd.DataFrame:\n",
    "    order_cnt = orders.groupby('customer_number')['order_number'].count().reset_index()\n",
    "    order_cnt['rank'] = order_cnt['order_number'].rank(method='dense', ascending=False)\n",
    "    return order_cnt[order_cnt['rank']==1][['customer_number']]"
   ]
  }
 ],
 "metadata": {
  "kernelspec": {
   "display_name": "Python 3 (ipykernel)",
   "language": "python",
   "name": "python3"
  },
  "language_info": {
   "codemirror_mode": {
    "name": "ipython",
    "version": 3
   },
   "file_extension": ".py",
   "mimetype": "text/x-python",
   "name": "python",
   "nbconvert_exporter": "python",
   "pygments_lexer": "ipython3",
   "version": "3.9.12"
  }
 },
 "nbformat": 4,
 "nbformat_minor": 5
}
