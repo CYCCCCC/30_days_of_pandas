{
 "cells": [
  {
   "cell_type": "code",
   "execution_count": null,
   "id": "fdf08b17-31f7-4673-88e8-98ff89110a1b",
   "metadata": {},
   "outputs": [],
   "source": [
    "import pandas as pd\n",
    "\n",
    "def count_salary_categories(accounts: pd.DataFrame) -> pd.DataFrame:\n",
    "    accounts['category'] = np.where(accounts['income']<20000, 'Low Salary', \n",
    "    np.where(accounts['income']>50000, 'High Salary', 'Average Salary'))\n",
    "    account_cat = accounts.groupby('category')['account_id'].count().reset_index().rename(columns={'account_id':'accounts_count'})\n",
    "    result = pd.DataFrame({'category':['High Salary', 'Low Salary','Average Salary']})\n",
    "    result = result.merge(account_cat, how='left', on='category').fillna(0)\n",
    "    return result"
   ]
  }
 ],
 "metadata": {
  "kernelspec": {
   "display_name": "Python 3 (ipykernel)",
   "language": "python",
   "name": "python3"
  },
  "language_info": {
   "codemirror_mode": {
    "name": "ipython",
    "version": 3
   },
   "file_extension": ".py",
   "mimetype": "text/x-python",
   "name": "python",
   "nbconvert_exporter": "python",
   "pygments_lexer": "ipython3",
   "version": "3.9.12"
  }
 },
 "nbformat": 4,
 "nbformat_minor": 5
}
