{
 "cells": [
  {
   "cell_type": "code",
   "execution_count": null,
   "id": "a4391a21-bca4-4526-b9a3-e6002c5df43c",
   "metadata": {},
   "outputs": [],
   "source": [
    "import pandas as pd\n",
    "\n",
    "def sales_person(sales_person: pd.DataFrame, company: pd.DataFrame, orders: pd.DataFrame) -> pd.DataFrame:\n",
    "    company.rename(columns={'name':'com_name'}, inplace=True)\n",
    "    total = sales_person.merge(orders, how='left', on='sales_id')\n",
    "    total = total.merge(company, how='left', on='com_id')\n",
    "    total['red'] = np.where(total['com_name']=='RED', 1, 0)\n",
    "    result = total.groupby('name')['red'].max().reset_index()\n",
    "    return result[result['red']==0][['name']]"
   ]
  },
  {
   "cell_type": "code",
   "execution_count": null,
   "id": "80c113ef-862d-40eb-b103-ef7aa68a28eb",
   "metadata": {},
   "outputs": [],
   "source": [
    "# def sales_person(sales_person: pd.DataFrame, company: pd.DataFrame, orders: pd.DataFrame) -> pd.DataFrame:\n",
    "\n",
    "#     df = pd.merge(orders,company, on = 'com_id',how = 'left')\n",
    "#     df = pd.merge(df,sales_person, on = 'sales_id', how = 'left')\n",
    "#     df = df.loc[df['name_x'] == 'RED','sales_id']\n",
    "\n",
    "#     df1 = sales_person.loc[~sales_person['sales_id'].isin(df),'name']\n",
    "\n",
    "#     return pd.DataFrame({'name':df1})\n",
    "    "
   ]
  },
  {
   "cell_type": "code",
   "execution_count": null,
   "id": "700e4147-5cb2-4e40-aebd-49eec70d1d93",
   "metadata": {},
   "outputs": [],
   "source": [
    "# def sales_person(sales_person: pd.DataFrame, company: pd.DataFrame, orders: pd.DataFrame) -> pd.DataFrame:\n",
    "#     red_ids = company[company['name']=='RED']['com_id']\n",
    "#     red_sellers = orders[orders['com_id'].isin(red_ids)]['sales_id']\n",
    "#     return sales_person[~sales_person['sales_id'].isin(red_sellers)][['name']]"
   ]
  }
 ],
 "metadata": {
  "kernelspec": {
   "display_name": "Python 3 (ipykernel)",
   "language": "python",
   "name": "python3"
  },
  "language_info": {
   "codemirror_mode": {
    "name": "ipython",
    "version": 3
   },
   "file_extension": ".py",
   "mimetype": "text/x-python",
   "name": "python",
   "nbconvert_exporter": "python",
   "pygments_lexer": "ipython3",
   "version": "3.9.12"
  }
 },
 "nbformat": 4,
 "nbformat_minor": 5
}
