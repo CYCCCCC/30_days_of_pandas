{
 "cells": [
  {
   "cell_type": "code",
   "execution_count": null,
   "id": "72b621a1-367c-46c7-982e-8fb9119a3269",
   "metadata": {},
   "outputs": [],
   "source": [
    "import pandas as pd\n",
    "\n",
    "def find_managers(employee: pd.DataFrame) -> pd.DataFrame:\n",
    "    mgr = employee.groupby('managerId').size().reset_index(name='cnt')\n",
    "    result = mgr.merge(employee,left_on='managerId',right_on='id',how='inner')\n",
    "    return result[result.cnt>=5][['name']]"
   ]
  },
  {
   "cell_type": "code",
   "execution_count": null,
   "id": "36c24950-ba95-4c39-be8c-3d526e969dd3",
   "metadata": {},
   "outputs": [],
   "source": [
    "# import pandas as pd\n",
    "\n",
    "# def find_managers(employee: pd.DataFrame) -> pd.DataFrame:\n",
    "#     id_list = employee[['id', 'name']].rename(columns={'id':'managerId','name':'manager_name'})\n",
    "#     employee.dropna(subset=['managerId'], inplace=True)\n",
    "#     employee = employee.merge(id_list, how='left', on='managerId')\n",
    "#     result = employee.groupby(['manager_name', 'managerId'])['id'].count().reset_index().rename(columns={'manager_name':'name', 'id':'report_cnt'})\n",
    "#     return result[result['report_cnt']>=5][['name']]"
   ]
  }
 ],
 "metadata": {
  "kernelspec": {
   "display_name": "Python 3 (ipykernel)",
   "language": "python",
   "name": "python3"
  },
  "language_info": {
   "codemirror_mode": {
    "name": "ipython",
    "version": 3
   },
   "file_extension": ".py",
   "mimetype": "text/x-python",
   "name": "python",
   "nbconvert_exporter": "python",
   "pygments_lexer": "ipython3",
   "version": "3.9.12"
  }
 },
 "nbformat": 4,
 "nbformat_minor": 5
}
