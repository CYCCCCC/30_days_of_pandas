{
 "cells": [
  {
   "cell_type": "code",
   "execution_count": null,
   "id": "f3bbcdaa-e8d2-44c9-98e3-928523600e8e",
   "metadata": {},
   "outputs": [],
   "source": [
    "import pandas as pd\n",
    "\n",
    "def nth_highest_salary(employee: pd.DataFrame, N: int) -> pd.DataFrame:\n",
    "    salary_ranking = employee.sort_values('salary', ascending=False)['salary'].drop_duplicates()\n",
    "\n",
    "    if (N > len(salary_ranking)) | (N <= 0):\n",
    "        return pd.DataFrame({f'getNthHighestSalary({N})': [None]})\n",
    "    else:\n",
    "        return pd.DataFrame({f'getNthHighestSalary({N})': [salary_ranking.iloc[N - 1]]})"
   ]
  }
 ],
 "metadata": {
  "kernelspec": {
   "display_name": "Python 3 (ipykernel)",
   "language": "python",
   "name": "python3"
  },
  "language_info": {
   "codemirror_mode": {
    "name": "ipython",
    "version": 3
   },
   "file_extension": ".py",
   "mimetype": "text/x-python",
   "name": "python",
   "nbconvert_exporter": "python",
   "pygments_lexer": "ipython3",
   "version": "3.9.12"
  }
 },
 "nbformat": 4,
 "nbformat_minor": 5
}
