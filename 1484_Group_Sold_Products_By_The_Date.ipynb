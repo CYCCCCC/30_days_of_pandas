{
 "cells": [
  {
   "cell_type": "code",
   "execution_count": null,
   "id": "0bc5bdf2-10c0-4399-855e-e828f1f3010c",
   "metadata": {},
   "outputs": [],
   "source": [
    "import pandas as pd\n",
    "\n",
    "def categorize_products(activities: pd.DataFrame) -> pd.DataFrame:\n",
    "    activities = activities.drop_duplicates().sort_values('product')\n",
    "    result = activities.groupby('sell_date')['product'].agg([('num_sold', 'nunique'), ('products', ','.join)]).reset_index()\n",
    "    return result"
   ]
  },
  {
   "cell_type": "code",
   "execution_count": null,
   "id": "1c81b3ae-a553-46e8-a4ec-a5b384d78250",
   "metadata": {},
   "outputs": [],
   "source": [
    "# def categorize_products(activities: pd.DataFrame) -> pd.DataFrame:\n",
    "#     activities = activities.drop_duplicates().sort_values('product')\n",
    "#     prod_cnt = activities.groupby('sell_date')['product'].count().reset_index().rename(columns={'product':'num_sold'})\n",
    "#     prod_item = activities.groupby('sell_date')['product'].agg(','.join).reset_index().rename(columns={'product':'products'})\n",
    "#     result = prod_cnt.merge(prod_item, how='left', on='sell_date')\n",
    "#     return result"
   ]
  }
 ],
 "metadata": {
  "kernelspec": {
   "display_name": "Python 3 (ipykernel)",
   "language": "python",
   "name": "python3"
  },
  "language_info": {
   "codemirror_mode": {
    "name": "ipython",
    "version": 3
   },
   "file_extension": ".py",
   "mimetype": "text/x-python",
   "name": "python",
   "nbconvert_exporter": "python",
   "pygments_lexer": "ipython3",
   "version": "3.9.12"
  }
 },
 "nbformat": 4,
 "nbformat_minor": 5
}
