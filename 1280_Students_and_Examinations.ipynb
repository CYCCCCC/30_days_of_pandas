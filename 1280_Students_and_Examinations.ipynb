{
 "cells": [
  {
   "cell_type": "code",
   "execution_count": null,
   "id": "c0d80e23-d394-4c90-a9ee-eaad1d562278",
   "metadata": {},
   "outputs": [],
   "source": [
    "import pandas as pd\n",
    "\n",
    "def students_and_examinations(students: pd.DataFrame, subjects: pd.DataFrame, examinations: pd.DataFrame) -> pd.DataFrame:\n",
    "    examinations['attended_exams'] = 1\n",
    "    exam_cnt = examinations.groupby(['student_id', 'subject_name'])['attended_exams'].sum().reset_index()\n",
    "    result = students.merge(subjects, how='cross')\n",
    "    result = result.merge(exam_cnt, how='left', on=['student_id', 'subject_name']).sort_values(by = ['student_id', 'subject_name'])\n",
    "    result['attended_exams'].fillna(0, inplace=True)\n",
    "    return result"
   ]
  }
 ],
 "metadata": {
  "kernelspec": {
   "display_name": "Python 3 (ipykernel)",
   "language": "python",
   "name": "python3"
  },
  "language_info": {
   "codemirror_mode": {
    "name": "ipython",
    "version": 3
   },
   "file_extension": ".py",
   "mimetype": "text/x-python",
   "name": "python",
   "nbconvert_exporter": "python",
   "pygments_lexer": "ipython3",
   "version": "3.9.12"
  }
 },
 "nbformat": 4,
 "nbformat_minor": 5
}
