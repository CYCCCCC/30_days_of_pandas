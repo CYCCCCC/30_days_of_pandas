{
 "cells": [
  {
   "cell_type": "code",
   "execution_count": null,
   "id": "03412e2c-574f-4540-88a7-6be79cc5d8eb",
   "metadata": {},
   "outputs": [],
   "source": [
    "import pandas as pd\n",
    "\n",
    "def invalid_tweets(tweets: pd.DataFrame) -> pd.DataFrame:\n",
    "    return tweets[tweets['content'].str.len()>15][['tweet_id']]"
   ]
  },
  {
   "cell_type": "code",
   "execution_count": null,
   "id": "46c22d5e-81fc-4a59-9ba0-94fe72e11b26",
   "metadata": {},
   "outputs": [],
   "source": [
    "# def invalid_tweets(tweets: pd.DataFrame) -> pd.DataFrame:\n",
    "#     return tweets[tweets['content'].apply(lambda x: len(x)>15)][['tweet_id']]"
   ]
  }
 ],
 "metadata": {
  "kernelspec": {
   "display_name": "Python 3 (ipykernel)",
   "language": "python",
   "name": "python3"
  },
  "language_info": {
   "codemirror_mode": {
    "name": "ipython",
    "version": 3
   },
   "file_extension": ".py",
   "mimetype": "text/x-python",
   "name": "python",
   "nbconvert_exporter": "python",
   "pygments_lexer": "ipython3",
   "version": "3.9.12"
  }
 },
 "nbformat": 4,
 "nbformat_minor": 5
}
