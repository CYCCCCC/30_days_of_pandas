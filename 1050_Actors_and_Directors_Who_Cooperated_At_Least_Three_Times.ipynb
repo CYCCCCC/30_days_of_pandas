{
 "cells": [
  {
   "cell_type": "code",
   "execution_count": null,
   "id": "304c48d7-be85-4294-9df6-b9e764caf5a2",
   "metadata": {},
   "outputs": [],
   "source": [
    "import pandas as pd\n",
    "\n",
    "def actors_and_directors(actor_director: pd.DataFrame) -> pd.DataFrame:\n",
    "    co_cnt = actor_director.groupby(['actor_id', 'director_id'])['timestamp'].count().reset_index().rename(columns={'timestamp':'cnt'})\n",
    "    return co_cnt[co_cnt['cnt']>=3][['actor_id', 'director_id']]"
   ]
  }
 ],
 "metadata": {
  "kernelspec": {
   "display_name": "Python 3 (ipykernel)",
   "language": "python",
   "name": "python3"
  },
  "language_info": {
   "codemirror_mode": {
    "name": "ipython",
    "version": 3
   },
   "file_extension": ".py",
   "mimetype": "text/x-python",
   "name": "python",
   "nbconvert_exporter": "python",
   "pygments_lexer": "ipython3",
   "version": "3.9.12"
  }
 },
 "nbformat": 4,
 "nbformat_minor": 5
}
