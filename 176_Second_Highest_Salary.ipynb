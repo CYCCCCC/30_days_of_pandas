{
 "cells": [
  {
   "cell_type": "code",
   "execution_count": null,
   "id": "79f07148-b751-4d3c-b60f-abfe2cdfe0f8",
   "metadata": {},
   "outputs": [],
   "source": [
    "import pandas as pd\n",
    "\n",
    "def second_highest_salary(employee: pd.DataFrame) -> pd.DataFrame:\n",
    "    salary_rank = employee['salary'].drop_duplicates().sort_values(ascending=False)\n",
    "    if len(salary_rank)<2:\n",
    "        return pd.DataFrame({'SecondHighestSalary': [None]})\n",
    "    else:\n",
    "        return pd.DataFrame({'SecondHighestSalary': [salary_rank.iloc[1]]})\n"
   ]
  },
  {
   "cell_type": "code",
   "execution_count": null,
   "id": "41411aa1",
   "metadata": {},
   "outputs": [],
   "source": [
    "# test"
   ]
  }
 ],
 "metadata": {
  "kernelspec": {
   "display_name": "Python 3 (ipykernel)",
   "language": "python",
   "name": "python3"
  },
  "language_info": {
   "codemirror_mode": {
    "name": "ipython",
    "version": 3
   },
   "file_extension": ".py",
   "mimetype": "text/x-python",
   "name": "python",
   "nbconvert_exporter": "python",
   "pygments_lexer": "ipython3",
   "version": "3.9.12"
  }
 },
 "nbformat": 4,
 "nbformat_minor": 5
}
