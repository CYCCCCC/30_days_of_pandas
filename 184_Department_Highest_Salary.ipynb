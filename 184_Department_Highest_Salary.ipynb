{
 "cells": [
  {
   "cell_type": "code",
   "execution_count": null,
   "id": "f16a52da-0e4b-418c-90a0-45d9dde9ecdd",
   "metadata": {},
   "outputs": [],
   "source": [
    "import pandas as pd\n",
    "\n",
    "def department_highest_salary(employee: pd.DataFrame, department: pd.DataFrame) -> pd.DataFrame:\n",
    "    employee.rename(columns={'name':'Employee', 'salary':'Salary'}, inplace=True)\n",
    "    max_salary = employee.groupby('departmentId')['Salary'].max().reset_index()\n",
    "    department.rename(columns={'id':'departmentId', 'name':'Department'}, inplace=True)\n",
    "    result = max_salary.merge(employee[['departmentId', 'Employee', 'Salary']], how='left', on=['departmentId', 'Salary'])\n",
    "    result = result.merge(department, how='left', on='departmentId')\n",
    "    return result[['Department', 'Employee', 'Salary']]"
   ]
  }
 ],
 "metadata": {
  "kernelspec": {
   "display_name": "Python 3 (ipykernel)",
   "language": "python",
   "name": "python3"
  },
  "language_info": {
   "codemirror_mode": {
    "name": "ipython",
    "version": 3
   },
   "file_extension": ".py",
   "mimetype": "text/x-python",
   "name": "python",
   "nbconvert_exporter": "python",
   "pygments_lexer": "ipython3",
   "version": "3.9.12"
  }
 },
 "nbformat": 4,
 "nbformat_minor": 5
}
